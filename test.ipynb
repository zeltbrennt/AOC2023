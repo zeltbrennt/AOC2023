{
 "cells": [
  {
   "cell_type": "code",
   "execution_count": 25,
   "outputs": [],
   "source": [
    "val p1 = mapOf(\"x\" to 787, \"m\" to 2655, \"a\" to 1222, \"s\" to 2876)\n",
    "\n",
    "data class Present(val x: Int, val m: Int, val a: Int, val s: Int)\n",
    "\n",
    "val p2 = Present(787, 2655, 1222, 2876)\n"
   ],
   "metadata": {
    "collapsed": false,
    "ExecuteTime": {
     "end_time": "2023-12-19T12:54:02.752031500Z",
     "start_time": "2023-12-19T12:54:02.141032300Z"
    }
   }
  },
  {
   "cell_type": "code",
   "execution_count": 4,
   "outputs": [],
   "source": [
    "fun compare(input: String): Boolean {\n",
    "    val (param, value) = input.split(\">\", \"<\")\n",
    "    val op = if (\"<\" in input) -1 else 1\n",
    "    return p1[param]?.compareTo(value.toInt()) ?: 0 == op\n",
    "}"
   ],
   "metadata": {
    "collapsed": false,
    "ExecuteTime": {
     "end_time": "2023-12-19T07:32:02.516403300Z",
     "start_time": "2023-12-19T07:32:01.709402300Z"
    }
   }
  },
  {
   "cell_type": "code",
   "execution_count": 51,
   "outputs": [],
   "source": [
    "typealias Present = Map<String, Int>\n",
    "\n",
    "val functions = mutableMapOf<String, (Present) -> Boolean?>()\n",
    "\n",
    "functions[\"A\"] = { _ -> true }\n",
    "functions[\"R\"] = { _ -> false }"
   ],
   "metadata": {
    "collapsed": false,
    "ExecuteTime": {
     "end_time": "2023-12-19T14:26:58.183790700Z",
     "start_time": "2023-12-19T14:26:57.804791800Z"
    }
   }
  },
  {
   "cell_type": "code",
   "execution_count": 46,
   "outputs": [],
   "source": [
    "fun createFunction(input: String): Pair<String, (Present) -> Boolean?> {\n",
    "    val name = input.substringBefore(\"{\")\n",
    "    val params = mutableListOf<String>()\n",
    "    val ops = mutableListOf<Int>()\n",
    "    val vals = mutableListOf<Int>()\n",
    "    val funs = mutableListOf<String>()\n",
    "    for (item in input.substringAfter(\"{\").substringBefore(\"}\").split(\",\")) {\n",
    "        val matches = \"\"\"([xmas])([<>])(\\d+):(\\D+)\"\"\".toRegex().matchEntire(item) ?: break\n",
    "        val (p, o, v, f) = matches.destructured\n",
    "        params.add(p)\n",
    "        ops.add(if (o == \"<\") -1 else 1)\n",
    "        vals.add(v.toInt())\n",
    "        funs.add(f)\n",
    "    }\n",
    "    val default = input.substringAfterLast(\",\").substringBefore(\"}\")\n",
    "    return name to funk@{ present: Present ->\n",
    "\n",
    "        for (i in 0..params.lastIndex) {\n",
    "            if (present[params[i]]?.compareTo(vals[i]) == ops[i]) return@funk functions[funs[i]]?.invoke(present)\n",
    "        }\n",
    "        functions[default]?.invoke(present)\n",
    "    }\n",
    "}\n"
   ],
   "metadata": {
    "collapsed": false,
    "ExecuteTime": {
     "end_time": "2023-12-19T14:24:19.309574700Z",
     "start_time": "2023-12-19T14:24:18.526576500Z"
    }
   }
  },
  {
   "cell_type": "code",
   "execution_count": 48,
   "outputs": [],
   "source": [
    "val x = createFunction(\"px{a<2006:qkq,m>2090:A,rfg}\")\n"
   ],
   "metadata": {
    "collapsed": false,
    "ExecuteTime": {
     "end_time": "2023-12-19T14:25:08.465575100Z",
     "start_time": "2023-12-19T14:25:08.407578500Z"
    }
   }
  },
  {
   "cell_type": "code",
   "execution_count": 52,
   "outputs": [
    {
     "data": {
      "text/plain": "{A=(Line_51_jupyter.Present /* = kotlin.collections.Map<kotlin.String, kotlin.Int> */) -> kotlin.Boolean, R=(Line_51_jupyter.Present /* = kotlin.collections.Map<kotlin.String, kotlin.Int> */) -> kotlin.Boolean, px=(Line_42_jupyter.Present /* = kotlin.collections.Map<kotlin.String, kotlin.Int> */) -> kotlin.Boolean?}"
     },
     "execution_count": 52,
     "metadata": {},
     "output_type": "execute_result"
    }
   ],
   "source": [
    "functions += x\n",
    "functions"
   ],
   "metadata": {
    "collapsed": false,
    "ExecuteTime": {
     "end_time": "2023-12-19T14:27:01.321792600Z",
     "start_time": "2023-12-19T14:27:01.057791500Z"
    }
   }
  },
  {
   "cell_type": "code",
   "execution_count": 61,
   "outputs": [
    {
     "name": "stdout",
     "output_type": "stream",
     "text": [
      "0..200\r\n",
      "200..400\r\n",
      "400..600\r\n",
      "600..800\r\n",
      "800..1000\r\n",
      "1000..1200\r\n",
      "1200..1400\r\n",
      "1400..1600\r\n",
      "1600..1800\r\n",
      "1800..2000\r\n",
      "2000..2200\r\n",
      "2200..2400\r\n",
      "2400..2600\r\n",
      "2600..2800\r\n",
      "2800..3000\r\n",
      "3000..3200\r\n",
      "3200..3400\r\n",
      "3400..3600\r\n",
      "3600..3800\r\n",
      "3800..4000\r\n"
     ]
    }
   ],
   "source": [
    "for (i in 0..<20) {\n",
    "    println(IntRange(i * 200, i * 200 + 200))\n",
    "\n",
    "}"
   ],
   "metadata": {
    "collapsed": false,
    "ExecuteTime": {
     "end_time": "2023-12-19T18:08:12.693331500Z",
     "start_time": "2023-12-19T18:08:12.628429800Z"
    }
   }
  }
 ],
 "metadata": {
  "kernelspec": {
   "display_name": "Kotlin",
   "language": "kotlin",
   "name": "kotlin"
  },
  "language_info": {
   "name": "kotlin",
   "version": "1.9.0",
   "mimetype": "text/x-kotlin",
   "file_extension": ".kt",
   "pygments_lexer": "kotlin",
   "codemirror_mode": "text/x-kotlin",
   "nbconvert_exporter": ""
  }
 },
 "nbformat": 4,
 "nbformat_minor": 0
}
